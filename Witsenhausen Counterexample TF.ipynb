{
 "cells": [
  {
   "cell_type": "code",
   "execution_count": null,
   "metadata": {
    "collapsed": false
   },
   "outputs": [],
   "source": [
    "import numpy as np\n",
    "from numpy import linalg as LA\n",
    "import tensorflow as tf\n",
    "import matplotlib.pyplot as plt\n",
    "# fix random seed for reproducibility\n",
    "np.random.seed()\n",
    "\n",
    "# model = Sequential()\n",
    "\n",
    "m = 1 # dimension\n",
    "k_squared = 0.1\n",
    "m_inv = 1.0\n",
    "learning_rate = 0.0001\n",
    "epochs = 1000\n",
    "batch_size = 1\n",
    "\n",
    "x_train = np.zeros((epochs,1))\n",
    "for i in range(0,epochs):\n",
    "    x_train[i]=np.random.normal()\n"
   ]
  },
  {
   "cell_type": "code",
   "execution_count": null,
   "metadata": {
    "collapsed": false
   },
   "outputs": [],
   "source": [
    "# declare the training data placeholders\n",
    "# input x - just one is x0\n",
    "x0 = tf.placeholder(tf.float32, [None, 1])\n",
    "# x1 = tf.placeholder(tf.float32, [None, 1])\n",
    "# x1_noise = tf.placeholder(tf.float32, [None, 1])\n",
    "# x2 = tf.placeholder(tf.float32, [None, 1])\n",
    "# # now declare the output data placeholder\n",
    "# u1 = tf.placeholder(tf.float32, [None, 1])\n",
    "# u2 = tf.placeholder(tf.float32, [None, 1])\n",
    "\n",
    "# y = tf.placeholder(tf.float32, [None, 2])"
   ]
  },
  {
   "cell_type": "code",
   "execution_count": null,
   "metadata": {
    "collapsed": true
   },
   "outputs": [],
   "source": [
    "# now declare the weights connecting the input to the hidden layer\n",
    "W1 = tf.Variable(tf.random_normal([1, 30], stddev=0.03), name='W1')\n",
    "b1 = tf.Variable(tf.random_normal([30]), name='b1')\n",
    "# and the weights connecting the hidden layer to the u1 output layer\n",
    "W2 = tf.Variable(tf.random_normal([30, 1], stddev=0.03), name='W2')\n",
    "b2 = tf.Variable(tf.random_normal([1]), name='b2')\n",
    "\n",
    "# declare weights connecting x1+z to a hidden layer\n",
    "W3 = tf.Variable(tf.random_normal([1, 30], stddev=0.03), name='W1')\n",
    "b3 = tf.Variable(tf.random_normal([30]), name='b3')\n",
    "# and the weights connecting the hidden layer to the u1 output layer\n",
    "W4 = tf.Variable(tf.random_normal([30, 1], stddev=0.03), name='W2')\n",
    "b4 = tf.Variable(tf.random_normal([1]), name='b4')"
   ]
  },
  {
   "cell_type": "code",
   "execution_count": null,
   "metadata": {
    "collapsed": false
   },
   "outputs": [],
   "source": [
    "# calculate the output of the hidden layer\n",
    "hidden_out_1 = tf.add(tf.matmul(x0, W1), b1)\n",
    "hidden_out_1 = tf.nn.relu(hidden_out_1)\n",
    "\n",
    "# output layer\n",
    "u1 = tf.nn.relu(tf.add(tf.matmul(hidden_out_1, W2), b2))\n",
    "# print(u1.get_shape())\n",
    "# x1 = u1 + x0\n",
    "x1 = u1 + x0\n",
    "\n",
    "# add noise to x1\n",
    "z = tf.random_normal([1,1])\n",
    "x1_noise = x1 + z\n",
    "\n",
    "hidden_out_2 = tf.add(tf.matmul(x1_noise, W3), b3)\n",
    "hidden_out_2 = tf.nn.relu(hidden_out_2)\n",
    "\n",
    "u2 = tf.nn.relu(tf.add(tf.matmul(hidden_out_2, W4), b4))\n",
    "\n",
    "x2 = x1 - u2"
   ]
  },
  {
   "cell_type": "code",
   "execution_count": null,
   "metadata": {
    "collapsed": false
   },
   "outputs": [],
   "source": []
  },
  {
   "cell_type": "code",
   "execution_count": null,
   "metadata": {
    "collapsed": false
   },
   "outputs": [],
   "source": [
    "wits_cost = tf.add(tf.multiply(m_inv,tf.multiply(k_squared, tf.norm(u1,'euclidean'))),\n",
    "                   tf.multiply(m_inv,tf.norm(x2,'euclidean')))\n",
    "# wits_cost = tf.norm(u1)\n",
    "optimiser = tf.train.GradientDescentOptimizer(learning_rate=learning_rate).minimize(wits_cost)"
   ]
  },
  {
   "cell_type": "code",
   "execution_count": null,
   "metadata": {
    "collapsed": true
   },
   "outputs": [],
   "source": [
    "# finally setup the initialisation operator\n",
    "init_op = tf.global_variables_initializer()\n"
   ]
  },
  {
   "cell_type": "code",
   "execution_count": null,
   "metadata": {
    "collapsed": false
   },
   "outputs": [],
   "source": [
    "plt.figure()\n",
    "\n",
    "# start the session\n",
    "with tf.Session() as sess:\n",
    "#    initialize the variables\n",
    "   sess.run(init_op)\n",
    "   for epoch in range(epochs):\n",
    "        x_batch = x_train[epoch].reshape(1,1)\n",
    "#         c = sess.run(optimiser, feed_dict={x0:np.zeros((10,1))})#{x0: x_batch})\n",
    "        sess.run(optimiser, feed_dict={x0: x_batch})\n",
    "        _,cost = sess.run([optimiser, wits_cost], feed_dict={x0: x_batch})\n",
    "#         print(\"Epoch:\", (epoch + 1), \"cost =\", \"{:.3f}\")\n",
    "#         print(u1)\n",
    "        print(\"Cost: \",cost)\n",
    "        plt.plot(epoch, cost, 'bo')\n",
    "    \n",
    "plt.show()"
   ]
  }
 ],
 "metadata": {
  "kernelspec": {
   "display_name": "Python 2",
   "language": "python",
   "name": "python2"
  },
  "language_info": {
   "codemirror_mode": {
    "name": "ipython",
    "version": 2
   },
   "file_extension": ".py",
   "mimetype": "text/x-python",
   "name": "python",
   "nbconvert_exporter": "python",
   "pygments_lexer": "ipython2",
   "version": "2.7.13"
  }
 },
 "nbformat": 4,
 "nbformat_minor": 2
}
