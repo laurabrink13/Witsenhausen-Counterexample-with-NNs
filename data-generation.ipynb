{
 "cells": [
  {
   "cell_type": "markdown",
   "metadata": {},
   "source": [
    "# Data Generation\n",
    "\n",
    "The goal of this notebook is to write functions which generate data and evaluate the loss of particular controls."
   ]
  },
  {
   "cell_type": "code",
   "execution_count": 7,
   "metadata": {},
   "outputs": [],
   "source": [
    "import numpy as np\n",
    "np.random.seed(42)"
   ]
  },
  {
   "cell_type": "code",
   "execution_count": 3,
   "metadata": {},
   "outputs": [],
   "source": [
    "#initial state is Gaussian mean 0, covariance sigma_0^2 I_m\n",
    "#noise is Gaussian mean 0, covariance sigma_z^2 I_m\n",
    "#cost 1 is k^2/m * squared l2 norm of u_1\n",
    "# cost 2 is 1/m * squared l2 norm of x_2\n",
    "def gen_initial_state(dimension, cov_term): \n",
    "    '''\n",
    "    Generates a vector of dimension DIMENSION\n",
    "    from a multivariate Gaussian distribution.\n",
    "    Mean is always 0, and covariance is a scalar \n",
    "    multiple of the identity matrix.\n",
    "    \n",
    "    dimension: An positive integer. The dimension of the vector\n",
    "    cov_term: A scalar to multiply the covariance matrix by. \n",
    "    '''\n",
    "    return np.random.multivariate_normal(np.zeros(dimension), cov_term * np.eye(dimension))"
   ]
  },
  {
   "cell_type": "code",
   "execution_count": 10,
   "metadata": {},
   "outputs": [],
   "source": [
    "def cost(control_1, x_2, k): \n",
    "    '''\n",
    "    Cost function. \n",
    "    Input: \n",
    "    control_1: The u_1 vector\n",
    "    x_2: The output after control 2\n",
    "    k: A scalar term weighting the cost of control_1\n",
    "    '''\n",
    "    dim = len(control_1)\n",
    "    return ((k**2)*np.linalg.norm(control_1)**2 + np.linalg.norm(x_2)**2) / dim"
   ]
  },
  {
   "cell_type": "code",
   "execution_count": null,
   "metadata": {},
   "outputs": [],
   "source": []
  },
  {
   "cell_type": "code",
   "execution_count": null,
   "metadata": {},
   "outputs": [],
   "source": []
  }
 ],
 "metadata": {
  "kernelspec": {
   "display_name": "Python [conda env:wt-env]",
   "language": "python",
   "name": "conda-env-wt-env-py"
  },
  "language_info": {
   "codemirror_mode": {
    "name": "ipython",
    "version": 3
   },
   "file_extension": ".py",
   "mimetype": "text/x-python",
   "name": "python",
   "nbconvert_exporter": "python",
   "pygments_lexer": "ipython3",
   "version": "3.6.4"
  }
 },
 "nbformat": 4,
 "nbformat_minor": 2
}
