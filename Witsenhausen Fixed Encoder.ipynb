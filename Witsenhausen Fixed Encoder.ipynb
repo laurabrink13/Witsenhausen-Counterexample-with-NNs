{
 "cells": [
  {
   "cell_type": "markdown",
   "metadata": {},
   "source": [
    "# Force the encoder"
   ]
  },
  {
   "cell_type": "markdown",
   "metadata": {},
   "source": [
    "encoder must take the shape from the Baglietto paper\n",
    "Draw x0 from the gaussian with std 25.  Set x1 to be a piecewise step based on x0"
   ]
  },
  {
   "cell_type": "code",
   "execution_count": 1,
   "metadata": {},
   "outputs": [
    {
     "name": "stderr",
     "output_type": "stream",
     "text": [
      "/Users/akhiljalan/anaconda/lib/python3.6/site-packages/h5py/__init__.py:36: FutureWarning: Conversion of the second argument of issubdtype from `float` to `np.floating` is deprecated. In future, it will be treated as `np.float64 == np.dtype(float).type`.\n",
      "  from ._conv import register_converters as _register_converters\n"
     ]
    }
   ],
   "source": [
    "import numpy as np\n",
    "from numpy import linalg as LA\n",
    "import tensorflow as tf\n",
    "import matplotlib.pyplot as plt\n",
    "# fix random seed for reproducibility\n",
    "np.random.seed()\n",
    "\n",
    "m = 1 # dimension\n",
    "k_squared = 0.04\n",
    "m_inv = 1.0\n",
    "learning_rate = 0.001\n",
    "epochs = 10000\n",
    "batch_size = 100\n",
    "x_stddev = 5\n",
    "test_averaging=100\n",
    "decay = 1 - 1*1e-10\n",
    "\n",
    "# x_train = np.zeros((epochs,1))\n",
    "# for i in range(0,epochs):\n",
    "#     x_train[i]=np.random.normal(scale = x_stddev)\n",
    "# #     x_train[i]=np.random.uniform(-20,20,1)\n"
   ]
  },
  {
   "cell_type": "code",
   "execution_count": 2,
   "metadata": {},
   "outputs": [],
   "source": [
    "# declare the training data placeholders\n",
    "# input x - just one is x0\n",
    "x0 = tf.placeholder(tf.float32, [None, 1])\n",
    "# x1 is also a placeholder now\n",
    "x1 = tf.placeholder(tf.float32, [None, 1])"
   ]
  },
  {
   "cell_type": "code",
   "execution_count": 3,
   "metadata": {},
   "outputs": [],
   "source": [
    "# declare weights connecting x1+z to a hidden layer\n",
    "W3 = tf.Variable(tf.random_normal([1, 30], stddev=0.03), name='W1')\n",
    "b3 = tf.Variable(tf.random_normal([30]), name='b3')\n",
    "# and the weights connecting the hidden layer to the u1 output layer\n",
    "W4 = tf.Variable(tf.random_normal([30, 1], stddev=0.03), name='W2')\n",
    "b4 = tf.Variable(tf.random_normal([1]), name='b4')"
   ]
  },
  {
   "cell_type": "code",
   "execution_count": 4,
   "metadata": {},
   "outputs": [],
   "source": [
    "# x1 = u1 + x0\n",
    "u1 = x1 - x0\n",
    "\n",
    "# add noise to x1\n",
    "z = tf.random_normal([1,1])\n",
    "x1_noise = x1 + z\n",
    "\n",
    "hidden_out_2 = tf.layers.dense(\n",
    "  x1_noise, 30, tf.nn.relu, use_bias=True)\n",
    "u2 = tf.layers.dense(\n",
    "  hidden_out_2, m, activation=tf.identity, use_bias=True)\n",
    "\n",
    "x2 = x1 - u2"
   ]
  },
  {
   "cell_type": "code",
   "execution_count": 5,
   "metadata": {},
   "outputs": [],
   "source": [
    "wits_cost = tf.add(tf.multiply(m_inv,tf.multiply(k_squared, tf.norm(u1,'euclidean'))),\n",
    "                   tf.multiply(m_inv,tf.norm(x2,'euclidean')))\n",
    "# wits_cost = tf.norm(u1)\n",
    "\n",
    "adaptive_learning_rate = tf.placeholder_with_default(learning_rate, [])\n",
    "\n",
    "\n",
    "optimizer = tf.train.AdamOptimizer(learning_rate=adaptive_learning_rate).minimize(wits_cost)\n",
    "                                                                                  \n",
    "# finally setup the initialisation operator\n",
    "init_op = tf.global_variables_initializer()"
   ]
  },
  {
   "cell_type": "code",
   "execution_count": 13,
   "metadata": {
    "scrolled": false
   },
   "outputs": [
    {
     "name": "stdout",
     "output_type": "stream",
     "text": [
      "Epoch:  0 Cost:  37.182045\n",
      "Epoch:  100 Cost:  8.771502\n",
      "Epoch:  200 Cost:  20.170906\n",
      "Epoch:  300 Cost:  5.46915\n",
      "Epoch:  400 Cost:  11.816361\n",
      "Epoch:  500 Cost:  4.827755\n",
      "Epoch:  600 Cost:  16.541082\n",
      "Epoch:  700 Cost:  2.2685602\n",
      "Epoch:  800 Cost:  12.981794\n",
      "Epoch:  900 Cost:  3.743361\n",
      "Epoch:  1000 Cost:  5.8835726\n",
      "Epoch:  1100 Cost:  11.165356\n",
      "Epoch:  1200 Cost:  7.6828637\n",
      "Epoch:  1300 Cost:  10.872548\n",
      "Epoch:  1400 Cost:  3.0057685\n",
      "Epoch:  1500 Cost:  10.025282\n",
      "Epoch:  1600 Cost:  3.408246\n",
      "Epoch:  1700 Cost:  18.25398\n",
      "Epoch:  1800 Cost:  9.955051\n",
      "Epoch:  1900 Cost:  14.726538\n",
      "Epoch:  2000 Cost:  23.531107\n",
      "Epoch:  2100 Cost:  5.9943566\n",
      "Epoch:  2200 Cost:  23.715181\n",
      "Epoch:  2300 Cost:  14.450249\n",
      "Epoch:  2400 Cost:  12.177585\n",
      "Epoch:  2500 Cost:  12.464702\n",
      "Epoch:  2600 Cost:  10.172086\n",
      "Epoch:  2700 Cost:  2.1420023\n",
      "Epoch:  2800 Cost:  3.9836652\n",
      "Epoch:  2900 Cost:  2.0871391\n",
      "Epoch:  3000 Cost:  8.994368\n",
      "Epoch:  3100 Cost:  8.233863\n",
      "Epoch:  3200 Cost:  7.926699\n",
      "Epoch:  3300 Cost:  10.884073\n",
      "Epoch:  3400 Cost:  3.1089334\n",
      "Epoch:  3500 Cost:  3.1748223\n",
      "Epoch:  3600 Cost:  39.071323\n",
      "Epoch:  3700 Cost:  6.906284\n",
      "Epoch:  3800 Cost:  20.444082\n",
      "Epoch:  3900 Cost:  13.670267\n",
      "Epoch:  4000 Cost:  6.115674\n",
      "Epoch:  4100 Cost:  6.7435503\n",
      "Epoch:  4200 Cost:  2.56075\n",
      "Epoch:  4300 Cost:  3.6623058\n",
      "Epoch:  4400 Cost:  3.3211155\n",
      "Epoch:  4500 Cost:  9.740114\n",
      "Epoch:  4600 Cost:  7.7453027\n",
      "Epoch:  4700 Cost:  16.434923\n",
      "Epoch:  4800 Cost:  17.25586\n",
      "Epoch:  4900 Cost:  9.702356\n",
      "Epoch:  5000 Cost:  11.987963\n",
      "Epoch:  5100 Cost:  11.304377\n",
      "Epoch:  5200 Cost:  10.349933\n",
      "Epoch:  5300 Cost:  9.203557\n",
      "Epoch:  5400 Cost:  14.194415\n",
      "Epoch:  5500 Cost:  15.231752\n",
      "Epoch:  5600 Cost:  10.571717\n",
      "Epoch:  5700 Cost:  8.7318535\n",
      "Epoch:  5800 Cost:  8.084701\n",
      "Epoch:  5900 Cost:  5.238828\n",
      "Epoch:  6000 Cost:  3.6253839\n",
      "Epoch:  6100 Cost:  11.730763\n",
      "Epoch:  6200 Cost:  6.142323\n",
      "Epoch:  6300 Cost:  8.983764\n",
      "Epoch:  6400 Cost:  24.95657\n",
      "Epoch:  6500 Cost:  5.505398\n",
      "Epoch:  6600 Cost:  10.170188\n",
      "Epoch:  6700 Cost:  5.4422894\n",
      "Epoch:  6800 Cost:  4.4250145\n",
      "Epoch:  6900 Cost:  16.879423\n",
      "Epoch:  7000 Cost:  9.179187\n",
      "Epoch:  7100 Cost:  17.671154\n",
      "Epoch:  7200 Cost:  5.423262\n",
      "Epoch:  7300 Cost:  11.287268\n",
      "Epoch:  7400 Cost:  36.928867\n",
      "Epoch:  7500 Cost:  2.373541\n",
      "Epoch:  7600 Cost:  5.7245264\n",
      "Epoch:  7700 Cost:  18.432838\n",
      "Epoch:  7800 Cost:  3.5686388\n",
      "Epoch:  7900 Cost:  15.428111\n",
      "Epoch:  8000 Cost:  5.5238485\n",
      "Epoch:  8100 Cost:  4.2009096\n",
      "Epoch:  8200 Cost:  9.732624\n",
      "Epoch:  8300 Cost:  5.7038116\n",
      "Epoch:  8400 Cost:  14.338866\n",
      "Epoch:  8500 Cost:  4.7917075\n",
      "Epoch:  8600 Cost:  13.942826\n",
      "Epoch:  8700 Cost:  11.791077\n",
      "Epoch:  8800 Cost:  2.0059357\n",
      "Epoch:  8900 Cost:  4.39254\n",
      "Epoch:  9000 Cost:  3.885112\n",
      "Epoch:  9100 Cost:  9.092829\n",
      "Epoch:  9200 Cost:  7.002451\n",
      "Epoch:  9300 Cost:  4.380169\n",
      "Epoch:  9400 Cost:  24.08002\n",
      "Epoch:  9500 Cost:  5.16419\n",
      "Epoch:  9600 Cost:  7.662339\n",
      "Epoch:  9700 Cost:  6.0113897\n",
      "Epoch:  9800 Cost:  4.9095726\n",
      "Epoch:  9900 Cost:  2.5356455\n"
     ]
    },
    {
     "data": {
      "text/plain": [
       "<Figure size 432x288 with 0 Axes>"
      ]
     },
     "metadata": {},
     "output_type": "display_data"
    },
    {
     "data": {
      "image/png": "[encoded data removed]",
      "text/plain": [
       "<Figure size 432x288 with 1 Axes>"
      ]
     },
     "metadata": {},
     "output_type": "display_data"
    },
    {
     "data": {
      "image/png": "[encoded data removed]",
      "text/plain": [
       "<Figure size 432x288 with 1 Axes>"
      ]
     },
     "metadata": {},
     "output_type": "display_data"
    },
    {
     "data": {
      "image/png": "[encoded data removed]",
      "text/plain": [
       "<Figure size 432x288 with 1 Axes>"
      ]
     },
     "metadata": {},
     "output_type": "display_data"
    },
    {
     "data": {
      "image/png": "[encoded data removed]",
      "text/plain": [
       "<Figure size 432x288 with 1 Axes>"
      ]
     },
     "metadata": {},
     "output_type": "display_data"
    }
   ],
   "source": [
    "plt.figure()\n",
    "train_losses = []\n",
    "# start the session\n",
    "with tf.Session() as sess:\n",
    "    #    initialize the variables\n",
    "    sess.run(init_op)\n",
    "    \n",
    "    x_train = np.random.normal(size=epochs * batch_size * m, scale=x_stddev)\n",
    "    x1_train = np.zeros(epochs * batch_size * m)\n",
    "    for data in range(epochs * batch_size * m,):\n",
    "        if x_train[data]<-6:\n",
    "            x1_train[data]=-10\n",
    "        elif x_train[data]<0:\n",
    "            x1_train[data]=-3\n",
    "        elif x_train[data]<6:\n",
    "            x1_train[data]=3\n",
    "        else: x1_train[data]=10\n",
    "    \n",
    "    \n",
    "    for epoch in range(epochs):\n",
    "#         x_batch = x_train[epoch].reshape(1,1)\n",
    "        x_batch = x_train[epoch: epoch + (batch_size * m)].reshape((batch_size, m))\n",
    "        x1_batch = x1_train[epoch: epoch + (batch_size * m)].reshape((batch_size, m))\n",
    "    #         c = sess.run(optimiser, feed_dict={x0:np.zeros((10,1))})#{x0: x_batch})\n",
    "    #         sess.run(optimiser, feed_dict={x0: x_batch})\n",
    "        _,cost = sess.run([optimizer, wits_cost], feed_dict={x0: x_batch, x1: x1_batch,\n",
    "                         adaptive_learning_rate: learning_rate * (decay**epoch)})\n",
    "    #         print(\"Epoch:\", (epoch + 1), \"cost =\", \"{:.3f}\")\n",
    "    #         print(u1)\n",
    "        \n",
    "        if epoch % 100 == 0: \n",
    "            print(\"Epoch: \", epoch, \"Cost: \",cost)\n",
    "            train_losses.append(cost)\n",
    "            \n",
    "\n",
    "    # Test over a continuous range of X\n",
    "#     x0_test = np.linspace(-2*x_stddev, 2*x_stddev, num=100)\n",
    "    x0_test = np.linspace(-15, 15, num=100)\n",
    "    x1_test = np.zeros((100,1))\n",
    "    for data in range(100):\n",
    "        if x0_test[data]<-6:\n",
    "            x1_test[data]=-10\n",
    "        elif x0_test[data]<0:\n",
    "            x1_test[data]=-3\n",
    "        elif x0_test[data]<6:\n",
    "            x1_test[data]=3\n",
    "        else: x1_test[data]=10\n",
    "    u1_test, u2_test, x1_noise_test = np.zeros((1, 100)), np.zeros((1, 100)), np.zeros((1,100))\n",
    "\n",
    "    for i in range(100):\n",
    "        u1t, u2t, x1_noiset = 0, 0, 0\n",
    "        for _ in range(test_averaging):\n",
    "          u1tmp, u2tmp, x1_noisetmp = sess.run(\n",
    "            [u1, u2, x1_noise],\n",
    "            feed_dict={x0: x0_test[i].reshape((1, 1)), x1: x1_test[i].reshape((1,1))})\n",
    "\n",
    "          u1t += u1tmp\n",
    "          u2t += u2tmp\n",
    "          x1_noiset += x1_noisetmp\n",
    "\n",
    "        u1_test[0, i] = u1t / test_averaging\n",
    "        u2_test[0, i] = -u2t / test_averaging\n",
    "        x1_noise_test[0,i] = x1_noiset / test_averaging\n",
    "\n",
    "# print(cost)\n",
    "plt.show()\n",
    "\n",
    "\n",
    "l1, = plt.plot(x0_test, u1_test[0], label=\"U1 Test\")\n",
    "l3, = plt.plot(x0_test, u2_test[0], label=\"U2 Test\")\n",
    "plt.xlabel('x0 test')\n",
    "plt.legend(handles=[l1, l3])\n",
    "# plt.title(\"{} Unit NN With Activation Fn {}\".format(\n",
    "#   str(num_units_1), str(activation_fn)))\n",
    "# plt.savefig(\"figure_u_1.png\n",
    "plt.show()\n",
    "\n",
    "plt.clf()\n",
    "l2, = plt.plot(x0_test, x1_test, label=\"X0 vs X1\")\n",
    "plt.xlabel('x0')\n",
    "plt.ylabel('x1')\n",
    "# plt.title(\"{} Unit NN With Activation Fn {}\".format(\n",
    "#   str(num_units_1), str(activation_fn)))\n",
    "plt.legend(handles=[l2])\n",
    "# plt.savefig(\"figure_x_1.png\")\n",
    "plt.show()\n",
    "\n",
    "plt.clf()\n",
    "l2, = plt.plot(x1_noise_test[0], u2_test[0], label=\"Y2 vs U2\")\n",
    "plt.xlabel('y2')\n",
    "plt.ylabel('u2')\n",
    "# plt.title(\"{} Unit NN With Activation Fn {}\".format(\n",
    "#   str(num_units_1), str(activation_fn)))\n",
    "plt.legend(handles=[l2])\n",
    "# plt.savefig(\"figure_x_1.png\")\n",
    "plt.show()\n",
    "\n",
    "plt.clf()\n",
    "plt.plot(np.arange(1, int(epochs/100) + 1) * 100, train_losses, lw=1, c='blue')\n",
    "plt.title('Train History')\n",
    "plt.xlabel('Epoch')\n",
    "plt.show()"
   ]
  },
  {
   "cell_type": "code",
   "execution_count": null,
   "metadata": {},
   "outputs": [],
   "source": []
  }
 ],
 "metadata": {
  "kernelspec": {
   "display_name": "Python [conda root]",
   "language": "python",
   "name": "conda-root-py"
  },
  "language_info": {
   "codemirror_mode": {
    "name": "ipython",
    "version": 3
   },
   "file_extension": ".py",
   "mimetype": "text/x-python",
   "name": "python",
   "nbconvert_exporter": "python",
   "pygments_lexer": "ipython3",
   "version": "3.6.4"
  }
 },
 "nbformat": 4,
 "nbformat_minor": 2
}
