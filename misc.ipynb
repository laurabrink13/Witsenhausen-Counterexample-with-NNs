{
 "cells": [
  {
   "cell_type": "markdown",
   "metadata": {},
   "source": [
    "# Miscellaenous\n",
    "\n",
    "Just trying stuff out. "
   ]
  },
  {
   "cell_type": "code",
   "execution_count": 2,
   "metadata": {},
   "outputs": [],
   "source": [
    "import numpy as np\n",
    "np.random.seed(42)"
   ]
  },
  {
   "cell_type": "code",
   "execution_count": 3,
   "metadata": {},
   "outputs": [],
   "source": [
    "#initial state is Gaussian mean 0, covariance sigma_0^2 I_m\n",
    "#noise is Gaussian mean 0, covariance sigma_z^2 I_m\n",
    "#cost 1 is k^2/m * squared l2 norm of u_1\n",
    "# cost 2 is 1/m * squared l2 norm of x_2\n",
    "def gen_initial_state(dimension, cov_term): \n",
    "    '''\n",
    "    Generates a vector of dimension DIMENSION\n",
    "    from a multivariate Gaussian distribution.\n",
    "    Mean is always 0, and covariance is a scalar \n",
    "    multiple of the identity matrix.\n",
    "    \n",
    "    dimension: An positive integer. The dimension of the vector\n",
    "    cov_term: A scalar to multiply the covariance matrix by. \n",
    "    '''\n",
    "    return np.random.multivariate_normal(np.zeros(dimension), cov_term * np.eye(dimension))"
   ]
  },
  {
   "cell_type": "code",
   "execution_count": 4,
   "metadata": {},
   "outputs": [],
   "source": [
    "def cost(control_1, x_2, k): \n",
    "    '''\n",
    "    Cost function. \n",
    "    Input: \n",
    "    control_1: The u_1 vector\n",
    "    x_2: The output after control 2\n",
    "    k: A scalar term weighting the cost of control_1\n",
    "    '''\n",
    "    dim = len(control_1)\n",
    "    return ((k**2)*np.linalg.norm(control_1)**2 + np.linalg.norm(x_2)**2) / dim"
   ]
  },
  {
   "cell_type": "code",
   "execution_count": 5,
   "metadata": {},
   "outputs": [],
   "source": [
    "import matplotlib.pyplot as plt\n",
    "%matplotlib inline"
   ]
  },
  {
   "cell_type": "code",
   "execution_count": 6,
   "metadata": {},
   "outputs": [],
   "source": [
    "def step_func(step_point): \n",
    "    def stepper(x): \n",
    "        if x > step_point: \n",
    "            return 1\n",
    "        else: \n",
    "            return 0\n",
    "    return stepper"
   ]
  },
  {
   "cell_type": "code",
   "execution_count": 4,
   "metadata": {},
   "outputs": [],
   "source": [
    "zero_step = step_func(0)"
   ]
  },
  {
   "cell_type": "code",
   "execution_count": 7,
   "metadata": {},
   "outputs": [],
   "source": [
    "#[-infty to -7] is -10\n",
    "#[-7 to 0] is -4\n",
    "#[0 to 7] is 4 \n",
    "#[7 to infty] is 10 \n",
    "def pw_step_function(x_arr): \n",
    "    return np.piecewise(x_arr, [x_arr < -7, (x_arr >= -7) & (x_arr < 0), (x_arr >= 0) & (x_arr < 7), x_arr > 7],\n",
    "            [-10, -4, 4, 10])"
   ]
  },
  {
   "cell_type": "code",
   "execution_count": 31,
   "metadata": {},
   "outputs": [
    {
     "data": {
      "text/plain": [
       "[<matplotlib.lines.Line2D at 0x113db2e48>]"
      ]
     },
     "execution_count": 31,
     "metadata": {},
     "output_type": "execute_result"
    },
    {
     "data": {
      "image/png": "[encoded data removed]",
      "text/plain": [
       "<Figure size 432x288 with 1 Axes>"
      ]
     },
     "metadata": {},
     "output_type": "display_data"
    }
   ],
   "source": [
    "plt.plot(np.linspace(-20, 20, num=400), pw_step_function(np.linspace(-20, 20, num=400)))"
   ]
  },
  {
   "cell_type": "code",
   "execution_count": 34,
   "metadata": {},
   "outputs": [
    {
     "data": {
      "text/plain": [
       "{-10, -4, 0, 4, 10}"
      ]
     },
     "execution_count": 34,
     "metadata": {},
     "output_type": "execute_result"
    }
   ],
   "source": [
    "pw_step_function(np.random.randint(low=-20, high=20, size=(30, 30))).reshape(-1)"
   ]
  },
  {
   "cell_type": "code",
   "execution_count": 39,
   "metadata": {},
   "outputs": [
    {
     "data": {
      "text/plain": [
       "array([-4,  4,  4])"
      ]
     },
     "execution_count": 39,
     "metadata": {},
     "output_type": "execute_result"
    }
   ],
   "source": [
    "pw_step_function(np.array([-1, 0, 1]))"
   ]
  },
  {
   "cell_type": "code",
   "execution_count": 10,
   "metadata": {},
   "outputs": [],
   "source": [
    "num_x0_points = 300\n",
    "x0_test = np.linspace(-3*5, 3*5, num=num_x0_points)"
   ]
  },
  {
   "cell_type": "code",
   "execution_count": 11,
   "metadata": {},
   "outputs": [],
   "source": [
    "def pw_step_function(x_arr): \n",
    "  '''\n",
    "  Performs a piecewise step operation on every element of x_arr.\n",
    "  x_arr: A numpy 1D array of real numbers of shape (N, )\n",
    "  returns: A numpy 1D array of shape (N, ) whose values are in [-10, -4, 4, 10]\n",
    "  '''\n",
    "  return np.piecewise(x_arr, [x_arr < -7, (x_arr >= -7) & (x_arr < 0), (x_arr >= 0) & (x_arr < 7), x_arr > 7],\n",
    "    [-10, -4, 4, 10])"
   ]
  },
  {
   "cell_type": "code",
   "execution_count": 12,
   "metadata": {},
   "outputs": [],
   "source": [
    "x1_test = pw_step_function(x0_test)"
   ]
  },
  {
   "cell_type": "code",
   "execution_count": 13,
   "metadata": {},
   "outputs": [
    {
     "data": {
      "text/plain": [
       "array([[-10.]])"
      ]
     },
     "execution_count": 13,
     "metadata": {},
     "output_type": "execute_result"
    }
   ],
   "source": [
    "x1_test[5].reshape(1, 1)"
   ]
  },
  {
   "cell_type": "code",
   "execution_count": 14,
   "metadata": {},
   "outputs": [],
   "source": [
    "z_test = np.random.normal(scale=1, size=num_x0_points)"
   ]
  },
  {
   "cell_type": "code",
   "execution_count": 15,
   "metadata": {},
   "outputs": [
    {
     "data": {
      "text/plain": [
       "array([[-0.23413696]])"
      ]
     },
     "execution_count": 15,
     "metadata": {},
     "output_type": "execute_result"
    }
   ],
   "source": [
    "z_test[5].reshape(1, 1)"
   ]
  },
  {
   "cell_type": "code",
   "execution_count": 16,
   "metadata": {},
   "outputs": [],
   "source": [
    "def pw_step_function(x_arr): \n",
    "  '''\n",
    "  Performs a piecewise step operation on every element of x_arr.\n",
    "  x_arr: A numpy 1D array of real numbers of shape (N, )\n",
    "  returns: A numpy 1D array of shape (N, ) whose values are in [-10, -4, 4, 10]\n",
    "  '''\n",
    "  return np.piecewise(x_arr, [x_arr < -7, (x_arr >= -7) & (x_arr < 0), (x_arr >= 0) & (x_arr < 7), x_arr > 7],\n",
    "    [-10, -4, 4, 10])"
   ]
  },
  {
   "cell_type": "code",
   "execution_count": 23,
   "metadata": {},
   "outputs": [
    {
     "data": {
      "text/plain": [
       "[<matplotlib.lines.Line2D at 0x1142e6eb8>]"
      ]
     },
     "execution_count": 23,
     "metadata": {},
     "output_type": "execute_result"
    },
    {
     "data": {
      "image/png": "[encoded data removed]",
      "text/plain": [
       "<Figure size 1152x432 with 2 Axes>"
      ]
     },
     "metadata": {},
     "output_type": "display_data"
    }
   ],
   "source": [
    "# return np.piecewise(x_arr, [x_arr < -7, (x_arr >= -7) & (x_arr < 0), (x_arr >= 0) & (x_arr < 7), x_arr > 7],\n",
    "#     [-10, -4, 4, 10])\n",
    "plt.figure(figsize=(16, 6))\n",
    "plt.subplot(1, 2, 1)\n",
    "plt.scatter(x0_test, pw_step_function(x0_test), c='orange', s=0.5)\n",
    "plt.plot([-7, -7], [-10, -4], c='orange')\n",
    "plt.plot([0, 0], [-4, 4], c='orange')\n",
    "plt.plot([7, 7], [4, 10], c='orange')\n",
    "\n",
    "plt.subplot(1, 2, 2)\n",
    "plt.plot(x0_test, x0_test)\n",
    "plt.scatter(x0_test, pw_step_function(x0_test), c='orange', s=0.5)\n",
    "plt.plot([-7, -7], [-10, -4], c='orange', s=0.5)\n",
    "plt.plot([0, 0], [-4, 4], c='orange', s=0.5)\n",
    "plt.plot([7, 7], [4, 10], c='orange', s=0.5)"
   ]
  },
  {
   "cell_type": "code",
   "execution_count": 29,
   "metadata": {},
   "outputs": [
    {
     "data": {
      "text/plain": [
       "[<matplotlib.lines.Line2D at 0x1153db828>]"
      ]
     },
     "execution_count": 29,
     "metadata": {},
     "output_type": "execute_result"
    },
    {
     "data": {
      "image/png": "[encoded data removed]",
      "text/plain": [
       "<Figure size 432x288 with 1 Axes>"
      ]
     },
     "metadata": {},
     "output_type": "display_data"
    }
   ],
   "source": [
    "plt.scatter(x0_test, pw_step_function(x0_test), c='orange', s=0.5)\n",
    "plt.plot(x0_test, pw_step_function(x0_test), c='green', lw=1)"
   ]
  },
  {
   "cell_type": "code",
   "execution_count": null,
   "metadata": {},
   "outputs": [],
   "source": []
  }
 ],
 "metadata": {
  "kernelspec": {
   "display_name": "Python [conda env:wt-env]",
   "language": "python",
   "name": "conda-env-wt-env-py"
  },
  "language_info": {
   "codemirror_mode": {
    "name": "ipython",
    "version": 3
   },
   "file_extension": ".py",
   "mimetype": "text/x-python",
   "name": "python",
   "nbconvert_exporter": "python",
   "pygments_lexer": "ipython3",
   "version": "3.6.4"
  }
 },
 "nbformat": 4,
 "nbformat_minor": 2
}
