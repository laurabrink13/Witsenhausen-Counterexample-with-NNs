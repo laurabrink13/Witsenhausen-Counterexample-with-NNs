{
 "cells": [
  {
   "cell_type": "markdown",
   "metadata": {},
   "source": [
    "# Miscellaenous\n",
    "\n",
    "Just trying stuff out. "
   ]
  },
  {
   "cell_type": "code",
   "execution_count": 1,
   "metadata": {},
   "outputs": [],
   "source": [
    "import numpy as np\n",
    "np.random.seed(42)"
   ]
  },
  {
   "cell_type": "code",
   "execution_count": 3,
   "metadata": {},
   "outputs": [],
   "source": [
    "#initial state is Gaussian mean 0, covariance sigma_0^2 I_m\n",
    "#noise is Gaussian mean 0, covariance sigma_z^2 I_m\n",
    "#cost 1 is k^2/m * squared l2 norm of u_1\n",
    "# cost 2 is 1/m * squared l2 norm of x_2\n",
    "def gen_initial_state(dimension, cov_term): \n",
    "    '''\n",
    "    Generates a vector of dimension DIMENSION\n",
    "    from a multivariate Gaussian distribution.\n",
    "    Mean is always 0, and covariance is a scalar \n",
    "    multiple of the identity matrix.\n",
    "    \n",
    "    dimension: An positive integer. The dimension of the vector\n",
    "    cov_term: A scalar to multiply the covariance matrix by. \n",
    "    '''\n",
    "    return np.random.multivariate_normal(np.zeros(dimension), cov_term * np.eye(dimension))"
   ]
  },
  {
   "cell_type": "code",
   "execution_count": 10,
   "metadata": {},
   "outputs": [],
   "source": [
    "def cost(control_1, x_2, k): \n",
    "    '''\n",
    "    Cost function. \n",
    "    Input: \n",
    "    control_1: The u_1 vector\n",
    "    x_2: The output after control 2\n",
    "    k: A scalar term weighting the cost of control_1\n",
    "    '''\n",
    "    dim = len(control_1)\n",
    "    return ((k**2)*np.linalg.norm(control_1)**2 + np.linalg.norm(x_2)**2) / dim"
   ]
  },
  {
   "cell_type": "code",
   "execution_count": 2,
   "metadata": {},
   "outputs": [],
   "source": [
    "import matplotlib.pyplot as plt\n",
    "%matplotlib inline"
   ]
  },
  {
   "cell_type": "code",
   "execution_count": 3,
   "metadata": {},
   "outputs": [],
   "source": [
    "def step_func(step_point): \n",
    "    def stepper(x): \n",
    "        if x > step_point: \n",
    "            return 1\n",
    "        else: \n",
    "            return 0\n",
    "    return stepper"
   ]
  },
  {
   "cell_type": "code",
   "execution_count": 4,
   "metadata": {},
   "outputs": [],
   "source": [
    "zero_step = step_func(0)"
   ]
  },
  {
   "cell_type": "code",
   "execution_count": 5,
   "metadata": {},
   "outputs": [
    {
     "data": {
      "text/plain": [
       "[<matplotlib.lines.Line2D at 0x10a04f4a8>]"
      ]
     },
     "execution_count": 5,
     "metadata": {},
     "output_type": "execute_result"
    },
    {
     "data": {
      "image/png": "[encoded data removed]",
      "text/plain": [
       "<Figure size 432x288 with 1 Axes>"
      ]
     },
     "metadata": {},
     "output_type": "display_data"
    }
   ],
   "source": [
    "plt.plot(np.linspace(-3, 3, num=100), [zero_step(x) for x in np.linspace(-3, 3, num=100)])"
   ]
  },
  {
   "cell_type": "code",
   "execution_count": 6,
   "metadata": {},
   "outputs": [],
   "source": [
    "a = {3: 0, 5: 1}"
   ]
  },
  {
   "cell_type": "code",
   "execution_count": 7,
   "metadata": {},
   "outputs": [
    {
     "data": {
      "text/plain": [
       "0"
      ]
     },
     "execution_count": 7,
     "metadata": {},
     "output_type": "execute_result"
    }
   ],
   "source": [
    "a[3]"
   ]
  },
  {
   "cell_type": "code",
   "execution_count": 16,
   "metadata": {},
   "outputs": [],
   "source": [
    "x_range = np.linspace(-20, 20, num=40)"
   ]
  },
  {
   "cell_type": "code",
   "execution_count": 18,
   "metadata": {},
   "outputs": [
    {
     "data": {
      "text/plain": [
       "array([ 1.,  1.,  1.,  1.,  1.,  1.,  1.,  1.,  1.,  1.,  1.,  1.,  1.,\n",
       "        1.,  1.,  1.,  1.,  0.,  0.,  0.,  0.,  0.,  0.,  4.,  4.,  4.,\n",
       "        4.,  4.,  4.,  4.,  4.,  4.,  4.,  4.,  4.,  4.,  4.,  4.,  4.,  4.])"
      ]
     },
     "execution_count": 18,
     "metadata": {},
     "output_type": "execute_result"
    }
   ],
   "source": [
    "np.piecewise(x_range, [x_range < -5, x_range < -3, x_range >= 3], [-3, 1, 4])"
   ]
  },
  {
   "cell_type": "code",
   "execution_count": 21,
   "metadata": {},
   "outputs": [
    {
     "data": {
      "text/plain": [
       "[<matplotlib.lines.Line2D at 0x1137029b0>]"
      ]
     },
     "execution_count": 21,
     "metadata": {},
     "output_type": "execute_result"
    },
    {
     "data": {
      "image/png": "[encoded data removed]",
      "text/plain": [
       "<Figure size 432x288 with 1 Axes>"
      ]
     },
     "metadata": {},
     "output_type": "display_data"
    }
   ],
   "source": [
    "plt.plot(x_range, np.piecewise(x_range, [x_range < -5, x_range < -3, x_range >= 3], [-3, 1, 4]))"
   ]
  },
  {
   "cell_type": "code",
   "execution_count": 23,
   "metadata": {},
   "outputs": [
    {
     "data": {
      "text/plain": [
       "array([[ 0.1,  0.4,  0.8,  0.8,  0.7,  0. ,  0. ,  0.8,  0.7,  0.9],\n",
       "       [ 0.8,  0.6,  0.2,  0.2,  0.1,  0.4,  0.2,  0.5,  0.1,  0.2],\n",
       "       [ 0.4,  0. ,  0. ,  0.9,  0.8,  0.6,  0. ,  0.7,  0.2,  0.7],\n",
       "       [ 0.4,  0. ,  0.6,  0.4,  0.5,  0.5,  0.7,  0.8,  0.1,  0.8],\n",
       "       [ 0.9,  0.8,  0.9,  0.9,  0.6,  0. ,  0.6,  0.9,  0.4,  0.5],\n",
       "       [ 0.9,  0.6,  0.4,  0.6,  0.8,  0.2,  0.7,  0.1,  0.6,  0.1],\n",
       "       [ 0.3,  0.6,  0.2,  0.1,  0.9,  0.6,  0. ,  0.7,  0.2,  0.1],\n",
       "       [ 0.2,  0.4,  0.7,  0.9,  0.6,  0.6,  0.6,  0.7,  0. ,  0.3],\n",
       "       [ 0.5,  0.8,  0.1,  0. ,  0.9,  0.1,  0.6,  0.2,  0.9,  0.1],\n",
       "       [ 0.6,  0.1,  0.2,  0.6,  0.3,  0. ,  0.4,  0.8,  0.7,  0.8],\n",
       "       [ 0.9,  0.8,  0.6,  0.3,  0.4,  0. ,  0. ,  0.2,  0.7,  0.1],\n",
       "       [ 0.3,  0.1,  0.4,  0.8,  0. ,  0.4,  0.8,  0. ,  0.8,  0.7],\n",
       "       [ 0.3,  0.9,  0.4,  0.4,  0.5,  0.6,  0.7,  0.7,  0.1,  0.8],\n",
       "       [ 0.6,  0.3,  0.3,  0.7,  0.3,  0.5,  0.4,  0.2,  0.9,  0.1],\n",
       "       [ 0.8,  0.9,  0.8,  0. ,  0.9,  0.2,  0.7,  0.5,  0.4,  0.4],\n",
       "       [ 0.5,  0.6,  0. ,  0.8,  0.2,  0.3,  0.9,  0. ,  0.9,  0.2],\n",
       "       [ 0.1,  0.1,  0. ,  0.7,  0.2,  0.2,  0.5,  0.7,  0.8,  0.8],\n",
       "       [ 0.3,  0.4,  0.1,  0.8,  0.7,  0.2,  0.8,  0.2,  0.8,  0.1],\n",
       "       [ 0.9,  0.8,  0.7,  0.8,  0.4,  0.1,  0.7,  0.5,  0.7,  0.4],\n",
       "       [ 0.9,  0.1,  0.5,  0.4,  0.4,  0. ,  0.1,  0.7,  0.2,  0.9],\n",
       "       [ 0.2,  0.7,  0.7,  0.1,  0.7,  0. ,  0.5,  0.7,  0.2,  0.7],\n",
       "       [ 0. ,  0.8,  0.8,  0.4,  0.9,  0.3,  0.5,  0.6,  0.4,  0.9],\n",
       "       [ 0.8,  0.2,  0.6,  0.9,  0.9,  0.4,  0.6,  0.1,  0.3,  0.1],\n",
       "       [ 0.6,  0.1,  0. ,  0.8,  0. ,  0.7,  0.1,  0.7,  0.2,  0.5],\n",
       "       [ 0.2,  0.6,  0.9,  0.8,  0.1,  0.4,  0.5,  0.3,  0.3,  0.3],\n",
       "       [ 0.1,  0.3,  0. ,  0.5,  0. ,  0.9,  0.5,  0. ,  0.5,  0.9],\n",
       "       [ 0.7,  0.1,  0.1,  0.3,  0.2,  0.3,  0.6,  0. ,  0.5,  0.2],\n",
       "       [ 0.9,  0.6,  0.9,  0.1,  0.1,  0.3,  0. ,  0.2,  0.8,  0.6],\n",
       "       [ 0.6,  0.3,  0.1,  0.3,  0.5,  0.2,  0. ,  0.7,  0.4,  0.4],\n",
       "       [ 0.3,  0.5,  0.2,  0.8,  0.4,  0.2,  0. ,  0.9,  0.5,  0.1],\n",
       "       [ 0.2,  0. ,  0.8,  0.7,  0.1,  0.7,  0.8,  0. ,  0.4,  0.7],\n",
       "       [ 0.1,  0.3,  0.6,  0.2,  0.4,  0.7,  0.9,  0.2,  0.3,  0.8],\n",
       "       [ 0.6,  0. ,  0.3,  0.3,  0.8,  0.5,  0.8,  0.5,  0.5,  0.4],\n",
       "       [ 0.4,  0.1,  0.7,  0.7,  0. ,  0.7,  0.4,  0.1,  0.1,  0.5],\n",
       "       [ 0.8,  0. ,  0.5,  0.8,  0.7,  0.5,  0.2,  0.7,  0.8,  0. ],\n",
       "       [ 0.8,  0.5,  0.5,  0.3,  0. ,  0.9,  0.7,  0.1,  0. ,  0.1],\n",
       "       [ 0. ,  0. ,  0.8,  0. ,  0.3,  0.9,  0.5,  0.6,  0.1,  0.5],\n",
       "       [ 0.6,  0.9,  0.9,  0.1,  0.1,  0.9,  0.6,  0. ,  0.7,  0.2],\n",
       "       [ 0.5,  0.8,  0.5,  0.8,  0.6,  0.8,  0.1,  0.7,  0.7,  0.1],\n",
       "       [ 0.3,  0.6,  0.3,  0.3,  0.5,  0.9,  0.5,  0.9,  0.2,  0.8],\n",
       "       [ 0.9,  0.1,  0.5,  0.6,  0.8,  0.2,  0.9,  0.2,  0.6,  0.3],\n",
       "       [ 0.7,  0.6,  0.4,  0.6,  0.2,  0.1,  0.5,  0.1,  0.2,  0.5],\n",
       "       [ 0.4,  0.7,  0.8,  0.2,  0.9,  0.2,  0.2,  0.5,  0. ,  0.6],\n",
       "       [ 0. ,  0.4,  0.9,  0.7,  0.3,  0.4,  0.3,  0.3,  0.7,  0.1],\n",
       "       [ 0. ,  0.2,  0.8,  0.3,  0.9,  0.4,  0.1,  0.3,  0.1,  0.1],\n",
       "       [ 0.3,  0.5,  0.6,  0.9,  0.2,  0.2,  0.9,  0.5,  0.2,  0.1],\n",
       "       [ 0.7,  0.4,  0. ,  0.2,  0.9,  0.7,  0.3,  0.6,  0.9,  0.1],\n",
       "       [ 0.6,  0.4,  0.4,  0.5,  0.8,  0.5,  0.7,  0.6,  0.8,  0.3],\n",
       "       [ 0.1,  0.6,  0.5,  0. ,  0.8,  0.8,  0.1,  0.2,  0.4,  0.4],\n",
       "       [ 0. ,  0.7,  0.7,  0.3,  0.6,  0.9,  0.2,  0.5,  0.9,  0.9]])"
      ]
     },
     "execution_count": 23,
     "metadata": {},
     "output_type": "execute_result"
    }
   ],
   "source": [
    "np.random.randint(low=0, high=10, size=(50, 10))/10"
   ]
  },
  {
   "cell_type": "code",
   "execution_count": 24,
   "metadata": {},
   "outputs": [
    {
     "data": {
      "text/plain": [
       "array([-20.        , -18.97435897, -17.94871795, -16.92307692,\n",
       "       -15.8974359 , -14.87179487, -13.84615385, -12.82051282,\n",
       "       -11.79487179, -10.76923077,  -9.74358974,  -8.71794872,\n",
       "        -7.69230769,  -6.66666667,  -5.64102564,  -4.61538462,\n",
       "        -3.58974359,  -2.56410256,  -1.53846154,  -0.51282051,\n",
       "         0.51282051,   1.53846154,   2.56410256,   3.58974359,\n",
       "         4.61538462,   5.64102564,   6.66666667,   7.69230769,\n",
       "         8.71794872,   9.74358974,  10.76923077,  11.79487179,\n",
       "        12.82051282,  13.84615385,  14.87179487,  15.8974359 ,\n",
       "        16.92307692,  17.94871795,  18.97435897,  20.        ])"
      ]
     },
     "execution_count": 24,
     "metadata": {},
     "output_type": "execute_result"
    }
   ],
   "source": [
    "x_range"
   ]
  },
  {
   "cell_type": "code",
   "execution_count": 27,
   "metadata": {},
   "outputs": [],
   "source": [
    "#[-infty to -7] is -10\n",
    "#[-7 to 0] is -4\n",
    "#[0 to 7] is 4 \n",
    "#[7 to infty] is 10 \n",
    "def pw_step_function(x_arr): \n",
    "    return np.piecewise(x_arr, [x_arr < -7, (x_arr >= -7) & (x_arr < 0), (x_arr >= 0) & (x_arr < 7), x_arr > 7],\n",
    "            [-10, -4, 4, 10])"
   ]
  },
  {
   "cell_type": "code",
   "execution_count": 31,
   "metadata": {},
   "outputs": [
    {
     "data": {
      "text/plain": [
       "[<matplotlib.lines.Line2D at 0x113db2e48>]"
      ]
     },
     "execution_count": 31,
     "metadata": {},
     "output_type": "execute_result"
    },
    {
     "data": {
      "image/png": "[encoded data removed]",
      "text/plain": [
       "<Figure size 432x288 with 1 Axes>"
      ]
     },
     "metadata": {},
     "output_type": "display_data"
    }
   ],
   "source": [
    "plt.plot(np.linspace(-20, 20, num=400), pw_step_function(np.linspace(-20, 20, num=400)))"
   ]
  },
  {
   "cell_type": "code",
   "execution_count": 34,
   "metadata": {},
   "outputs": [
    {
     "data": {
      "text/plain": [
       "{-10, -4, 0, 4, 10}"
      ]
     },
     "execution_count": 34,
     "metadata": {},
     "output_type": "execute_result"
    }
   ],
   "source": [
    "pw_step_function(np.random.randint(low=-20, high=20, size=(30, 30))).reshape(-1)"
   ]
  },
  {
   "cell_type": "code",
   "execution_count": 39,
   "metadata": {},
   "outputs": [
    {
     "data": {
      "text/plain": [
       "array([-4,  4,  4])"
      ]
     },
     "execution_count": 39,
     "metadata": {},
     "output_type": "execute_result"
    }
   ],
   "source": [
    "pw_step_function(np.array([-1, 0, 1]))"
   ]
  },
  {
   "cell_type": "code",
   "execution_count": 44,
   "metadata": {},
   "outputs": [],
   "source": [
    "num_x0_points = 300\n",
    "x0_test = np.linspace(-3*5, 3*5, num=num_x0_points)"
   ]
  },
  {
   "cell_type": "code",
   "execution_count": 46,
   "metadata": {},
   "outputs": [],
   "source": [
    "def pw_step_function(x_arr): \n",
    "  '''\n",
    "  Performs a piecewise step operation on every element of x_arr.\n",
    "  x_arr: A numpy 1D array of real numbers of shape (N, )\n",
    "  returns: A numpy 1D array of shape (N, ) whose values are in [-10, -4, 4, 10]\n",
    "  '''\n",
    "  return np.piecewise(x_arr, [x_arr < -7, (x_arr >= -7) & (x_arr < 0), (x_arr >= 0) & (x_arr < 7), x_arr > 7],\n",
    "    [-10, -4, 4, 10])"
   ]
  },
  {
   "cell_type": "code",
   "execution_count": 49,
   "metadata": {},
   "outputs": [],
   "source": [
    "x1_test = pw_step_function(x0_test)"
   ]
  },
  {
   "cell_type": "code",
   "execution_count": 57,
   "metadata": {},
   "outputs": [
    {
     "data": {
      "text/plain": [
       "array([[-10.]])"
      ]
     },
     "execution_count": 57,
     "metadata": {},
     "output_type": "execute_result"
    }
   ],
   "source": [
    "x1_test[5].reshape(1, 1)"
   ]
  },
  {
   "cell_type": "code",
   "execution_count": 53,
   "metadata": {},
   "outputs": [],
   "source": [
    "z_test = np.random.normal(scale=1, size=num_x0_points)"
   ]
  },
  {
   "cell_type": "code",
   "execution_count": 56,
   "metadata": {},
   "outputs": [
    {
     "data": {
      "text/plain": [
       "array([[-0.01201207]])"
      ]
     },
     "execution_count": 56,
     "metadata": {},
     "output_type": "execute_result"
    }
   ],
   "source": [
    "z_test[5].reshape(1, 1)"
   ]
  },
  {
   "cell_type": "code",
   "execution_count": 58,
   "metadata": {},
   "outputs": [],
   "source": [
    "def pw_step_function(x_arr): \n",
    "  '''\n",
    "  Performs a piecewise step operation on every element of x_arr.\n",
    "  x_arr: A numpy 1D array of real numbers of shape (N, )\n",
    "  returns: A numpy 1D array of shape (N, ) whose values are in [-10, -4, 4, 10]\n",
    "  '''\n",
    "  return np.piecewise(x_arr, [x_arr < -7, (x_arr >= -7) & (x_arr < 0), (x_arr >= 0) & (x_arr < 7), x_arr > 7],\n",
    "    [-10, -4, 4, 10])"
   ]
  },
  {
   "cell_type": "code",
   "execution_count": 59,
   "metadata": {},
   "outputs": [
    {
     "data": {
      "text/plain": [
       "array([-10., -10., -10., -10., -10., -10., -10., -10., -10., -10., -10.,\n",
       "       -10., -10., -10., -10., -10., -10., -10., -10., -10., -10., -10.,\n",
       "       -10., -10., -10., -10., -10., -10., -10., -10., -10., -10., -10.,\n",
       "       -10., -10., -10., -10., -10., -10., -10., -10., -10., -10., -10.,\n",
       "       -10., -10., -10., -10., -10., -10., -10., -10., -10., -10., -10.,\n",
       "       -10., -10., -10., -10., -10., -10., -10., -10., -10., -10., -10.,\n",
       "       -10., -10., -10., -10., -10., -10., -10., -10., -10., -10., -10.,\n",
       "       -10., -10., -10.,  -4.,  -4.,  -4.,  -4.,  -4.,  -4.,  -4.,  -4.,\n",
       "        -4.,  -4.,  -4.,  -4.,  -4.,  -4.,  -4.,  -4.,  -4.,  -4.,  -4.,\n",
       "        -4.,  -4.,  -4.,  -4.,  -4.,  -4.,  -4.,  -4.,  -4.,  -4.,  -4.,\n",
       "        -4.,  -4.,  -4.,  -4.,  -4.,  -4.,  -4.,  -4.,  -4.,  -4.,  -4.,\n",
       "        -4.,  -4.,  -4.,  -4.,  -4.,  -4.,  -4.,  -4.,  -4.,  -4.,  -4.,\n",
       "        -4.,  -4.,  -4.,  -4.,  -4.,  -4.,  -4.,  -4.,  -4.,  -4.,  -4.,\n",
       "        -4.,  -4.,  -4.,  -4.,  -4.,  -4.,  -4.,   4.,   4.,   4.,   4.,\n",
       "         4.,   4.,   4.,   4.,   4.,   4.,   4.,   4.,   4.,   4.,   4.,\n",
       "         4.,   4.,   4.,   4.,   4.,   4.,   4.,   4.,   4.,   4.,   4.,\n",
       "         4.,   4.,   4.,   4.,   4.,   4.,   4.,   4.,   4.,   4.,   4.,\n",
       "         4.,   4.,   4.,   4.,   4.,   4.,   4.,   4.,   4.,   4.,   4.,\n",
       "         4.,   4.,   4.,   4.,   4.,   4.,   4.,   4.,   4.,   4.,   4.,\n",
       "         4.,   4.,   4.,   4.,   4.,   4.,   4.,   4.,   4.,   4.,   4.,\n",
       "        10.,  10.,  10.,  10.,  10.,  10.,  10.,  10.,  10.,  10.,  10.,\n",
       "        10.,  10.,  10.,  10.,  10.,  10.,  10.,  10.,  10.,  10.,  10.,\n",
       "        10.,  10.,  10.,  10.,  10.,  10.,  10.,  10.,  10.,  10.,  10.,\n",
       "        10.,  10.,  10.,  10.,  10.,  10.,  10.,  10.,  10.,  10.,  10.,\n",
       "        10.,  10.,  10.,  10.,  10.,  10.,  10.,  10.,  10.,  10.,  10.,\n",
       "        10.,  10.,  10.,  10.,  10.,  10.,  10.,  10.,  10.,  10.,  10.,\n",
       "        10.,  10.,  10.,  10.,  10.,  10.,  10.,  10.,  10.,  10.,  10.,\n",
       "        10.,  10.,  10.])"
      ]
     },
     "execution_count": 59,
     "metadata": {},
     "output_type": "execute_result"
    }
   ],
   "source": [
    "pw_step_function(x0_test)"
   ]
  },
  {
   "cell_type": "code",
   "execution_count": 63,
   "metadata": {},
   "outputs": [
    {
     "data": {
      "text/plain": [
       "[<matplotlib.lines.Line2D at 0x114103048>]"
      ]
     },
     "execution_count": 63,
     "metadata": {},
     "output_type": "execute_result"
    },
    {
     "data": {
      "image/png": "[encoded data removed]",
      "text/plain": [
       "<Figure size 432x288 with 1 Axes>"
      ]
     },
     "metadata": {},
     "output_type": "display_data"
    }
   ],
   "source": [
    "# return np.piecewise(x_arr, [x_arr < -7, (x_arr >= -7) & (x_arr < 0), (x_arr >= 0) & (x_arr < 7), x_arr > 7],\n",
    "#     [-10, -4, 4, 10])\n",
    "plt.scatter(x0_test, pw_step_function(x0_test), c='orange', s=0.5)\n",
    "plt.plot([-7, -7], [-10, -4], c='orange')\n",
    "plt.plot([0, 0], [-4, 4], c='orange')\n",
    "plt.plot([7, 7], [4, 10], c='orange')"
   ]
  },
  {
   "cell_type": "code",
   "execution_count": null,
   "metadata": {},
   "outputs": [],
   "source": []
  }
 ],
 "metadata": {
  "kernelspec": {
   "display_name": "Python [conda env:wt-env]",
   "language": "python",
   "name": "conda-env-wt-env-py"
  },
  "language_info": {
   "codemirror_mode": {
    "name": "ipython",
    "version": 3
   },
   "file_extension": ".py",
   "mimetype": "text/x-python",
   "name": "python",
   "nbconvert_exporter": "python",
   "pygments_lexer": "ipython3",
   "version": "3.6.4"
  }
 },
 "nbformat": 4,
 "nbformat_minor": 2
}
